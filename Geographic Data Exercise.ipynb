{
 "cells": [
  {
   "cell_type": "code",
   "execution_count": 4,
   "id": "4f92fad3",
   "metadata": {},
   "outputs": [
    {
     "name": "stdout",
     "output_type": "stream",
     "text": [
      "Properties:\n",
      "{'scalerank': 3, 'labelrank': 5, 'sovereignt': 'Netherlands', 'sov_a3': 'NL1', 'adm0_dif': 1, 'level': 2, 'type': 'Country', 'admin': 'Aruba', 'adm0_a3': 'ABW', 'geou_dif': 0, 'geounit': 'Aruba', 'gu_a3': 'ABW', 'su_dif': 0, 'subunit': 'Aruba', 'su_a3': 'ABW', 'brk_diff': 0, 'name': 'Aruba', 'name_long': 'Aruba', 'brk_a3': 'ABW', 'brk_name': 'Aruba', 'brk_group': None, 'abbrev': 'Aruba', 'postal': 'AW', 'formal_en': 'Aruba', 'formal_fr': None, 'note_adm0': 'Neth.', 'note_brk': None, 'name_sort': 'Aruba', 'name_alt': None, 'mapcolor7': 4, 'mapcolor8': 2, 'mapcolor9': 2, 'mapcolor13': 9, 'pop_est': 103065, 'gdp_md_est': 2258, 'pop_year': -99, 'lastcensus': 2010, 'gdp_year': -99, 'economy': '6. Developing region', 'income_grp': '2. High income: nonOECD', 'wikipedia': -99, 'fips_10': None, 'iso_a2': 'AW', 'iso_a3': 'ABW', 'iso_n3': '533', 'un_a3': '533', 'wb_a2': 'AW', 'wb_a3': 'ABW', 'woe_id': -99, 'adm0_a3_is': 'ABW', 'adm0_a3_us': 'ABW', 'adm0_a3_un': -99, 'adm0_a3_wb': -99, 'continent': 'North America', 'region_un': 'Americas', 'subregion': 'Caribbean', 'region_wb': 'Latin America & Caribbean', 'name_len': 5, 'long_len': 5, 'abbrev_len': 5, 'tiny': 4, 'homepart': -99, 'featureclass': 'Admin-0 country'}\n",
      "\n",
      "Geometry:\n",
      "{'type': 'Polygon', 'coordinates': [[[-69.89912109375, 12.452001953124991], [-69.895703125, 12.422998046874994], [-69.94218749999999, 12.438525390624989], [-70.004150390625, 12.50048828125], [-70.06611328125, 12.546972656249991], [-70.05087890624999, 12.597070312499994], [-70.035107421875, 12.614111328124991], [-69.97314453125, 12.567626953125], [-69.91181640625, 12.48046875], [-69.89912109375, 12.452001953124991]]]}\n"
     ]
    }
   ],
   "source": [
    "import json\n",
    "import requests\n",
    "\n",
    "url = \"https://geojson.xyz/naturalearth-3.3.0/ne_50m_admin_0_countries.geojson\"\n",
    "\n",
    "response = requests.get(url)\n",
    "\n",
    "pol_countries = json.loads(response.text)\n",
    "\n",
    "features = pol_countries.get(\"features\")\n",
    "if features:\n",
    "    first_feature = features[0]\n",
    "    properties = first_feature.get(\"properties\")\n",
    "    geometry = first_feature.get(\"geometry\")\n",
    "    \n",
    "    print(\"Properties:\")\n",
    "    print(properties)\n",
    "    print(\"\\nGeometry:\")\n",
    "    print(geometry)\n"
   ]
  },
  {
   "cell_type": "code",
   "execution_count": null,
   "id": "48d0f2b7",
   "metadata": {},
   "outputs": [],
   "source": [
    "import requests\n",
    "import json\n",
    "\n",
    "def seviye_hesapla(lst):\n",
    "    if not isinstance(lst, list):  # Eğer eleman bir liste değilse, seviye 0'dır.\n",
    "        return 0\n",
    "    else:\n",
    "        # Eğer eleman bir liste ise, en yüksek seviyeyi bulmak için rekürsif olarak fonksiyonu çağır.\n",
    "        alt_seviyeler = [seviye_hesapla(eleman) for eleman in lst]\n",
    "        return 1 + max(alt_seviyeler, default=0)\n",
    "\n",
    "political_countries_url = \"http://geojson.xyz/naturalearth-3.3.0/ne_50m_admin_0_countries.geojson\"\n",
    "\n",
    "response = requests.get(political_countries_url) \n",
    "\n",
    "political_countries = json.loads(response.text)\n",
    "\n",
    "for anahtar in political_countries.keys():\n",
    "  print(anahtar)\n",
    "\n",
    "features = political_countries.get(\"features\")\n",
    "if features:\n",
    "  first_features = features[0]\n",
    "  print(first_features)\n",
    "  for anahtar in first_features.keys():\n",
    "    print(anahtar)\n",
    "\n",
    "for feature in political_countries.get(\"features\"):\n",
    "  properties = feature[\"properties\"]\n",
    "  name = properties[\"name\"]\n",
    "  geometry = feature.get(\"geometry\")\n",
    "  coordinates = geometry.get(\"coordinates\")\n",
    "\n",
    "  min_boylam = float('inf')\n",
    "  max_boylam = float('inf')\n",
    "\n",
    "  for ic1 in coordinates:\n",
    "    for ic2 in ic1:\n",
    "      boylam, enlem = ic2[:2]\n",
    "      min_boylam = min(min_boylam, boylam)\n",
    "      max_boylam = max(max_boylam, boylam)"
   ]
  }
 ],
 "metadata": {
  "kernelspec": {
   "display_name": "Python 3 (ipykernel)",
   "language": "python",
   "name": "python3"
  },
  "language_info": {
   "codemirror_mode": {
    "name": "ipython",
    "version": 3
   },
   "file_extension": ".py",
   "mimetype": "text/x-python",
   "name": "python",
   "nbconvert_exporter": "python",
   "pygments_lexer": "ipython3",
   "version": "3.9.13"
  }
 },
 "nbformat": 4,
 "nbformat_minor": 5
}
